{
 "cells": [
  {
   "cell_type": "code",
   "execution_count": 1,
   "metadata": {},
   "outputs": [
    {
     "name": "stdout",
     "output_type": "stream",
     "text": [
      "Requirement already satisfied: numpy in c:\\users\\karan\\anaconda3\\lib\\site-packages (1.26.4)\n"
     ]
    }
   ],
   "source": [
    "!pip install numpy\n"
   ]
  },
  {
   "cell_type": "code",
   "execution_count": 2,
   "metadata": {},
   "outputs": [],
   "source": [
    "import numpy as np\n",
    "\n"
   ]
  },
  {
   "cell_type": "code",
   "execution_count": 8,
   "metadata": {},
   "outputs": [
    {
     "name": "stdout",
     "output_type": "stream",
     "text": [
      "[1 2 3 4 5]\n",
      "<class 'numpy.ndarray'>\n",
      "(5,)\n"
     ]
    }
   ],
   "source": [
    "### how to create an array\n",
    "## creating 1d array\n",
    "one_d_arr=np.array([1,2,3,4,5])\n",
    "print(one_d_arr)\n",
    "print(type(one_d_arr))\n",
    "##<class'numpy.ndarray'> means it is an array of n dimensions\n",
    "\n",
    "print(one_d_arr.shape)"
   ]
  },
  {
   "cell_type": "code",
   "execution_count": null,
   "metadata": {},
   "outputs": [
    {
     "data": {
      "text/plain": [
       "array([[1, 2, 3, 4, 5]])"
      ]
     },
     "execution_count": 10,
     "metadata": {},
     "output_type": "execute_result"
    }
   ],
   "source": [
    "two_d_arr=np.array([1,2,3,4,5])\n",
    "two_d_arr.reshape(1,5) ##--> this change the state of one dimensional array to 2 dimensional array\n",
    "## the output has 2 square brackets which means that it is 2 dimensional array"
   ]
  },
  {
   "cell_type": "code",
   "execution_count": 11,
   "metadata": {},
   "outputs": [
    {
     "name": "stdout",
     "output_type": "stream",
     "text": [
      "[[1 2 3 4 5]\n",
      " [1 2 3 4 5]]\n",
      "(2, 5)\n"
     ]
    }
   ],
   "source": [
    "arr1=np.array([[1,2,3,4,5],[1,2,3,4,5]])\n",
    "print(arr1)\n",
    "print(arr1.shape)"
   ]
  },
  {
   "cell_type": "code",
   "execution_count": null,
   "metadata": {},
   "outputs": [
    {
     "data": {
      "text/plain": [
       "array([[0],\n",
       "       [2],\n",
       "       [4],\n",
       "       [6],\n",
       "       [8]])"
      ]
     },
     "execution_count": 13,
     "metadata": {},
     "output_type": "execute_result"
    }
   ],
   "source": [
    "##arange function for numpy\n",
    "np.arange(0,10,2).reshape(5,1)###--> (0,10,2)-> it means rnage from 0-10 and a space of 2 digit in between\n",
    "###reshape(5,1)--> it means that 5 rows and 1 column\n",
    "\n"
   ]
  },
  {
   "cell_type": "code",
   "execution_count": 14,
   "metadata": {},
   "outputs": [
    {
     "data": {
      "text/plain": [
       "array([[1., 1., 1., 1.],\n",
       "       [1., 1., 1., 1.],\n",
       "       [1., 1., 1., 1.]])"
      ]
     },
     "execution_count": 14,
     "metadata": {},
     "output_type": "execute_result"
    }
   ],
   "source": [
    "### np.one function of numpy\n",
    "\n",
    "np.ones((3,4))"
   ]
  },
  {
   "cell_type": "code",
   "execution_count": 16,
   "metadata": {},
   "outputs": [
    {
     "data": {
      "text/plain": [
       "array([[1., 0., 0.],\n",
       "       [0., 1., 0.],\n",
       "       [0., 0., 1.]])"
      ]
     },
     "execution_count": 16,
     "metadata": {},
     "output_type": "execute_result"
    }
   ],
   "source": [
    "## ti create identity matrix we use eye function of numpy\n",
    "np.eye(3) "
   ]
  },
  {
   "cell_type": "code",
   "execution_count": 17,
   "metadata": {},
   "outputs": [
    {
     "name": "stdout",
     "output_type": "stream",
     "text": [
      "Array [[1 2 3]\n",
      " [2 3 4]]\n",
      "(2, 3)\n",
      "2\n",
      "6\n",
      "int32\n",
      "4\n"
     ]
    }
   ],
   "source": [
    "arr1=np.array([[1,2,3],[2,3,4]])\n",
    "print(\"Array\",arr1)\n",
    "print(arr1.shape)\n",
    "print(arr1.ndim)#-->ndim stands for n dimensions --> it prints the dimensions of array\n",
    "print(arr1.size)#--> it prints how many elements are there in the array\n",
    "print(arr1.dtype)#--> it prints the data type of the array\n",
    "print(arr1.itemsize)#--> the size of the array in bytes\n"
   ]
  },
  {
   "cell_type": "code",
   "execution_count": 19,
   "metadata": {},
   "outputs": [
    {
     "name": "stdout",
     "output_type": "stream",
     "text": [
      "[ 6  5  8 10]\n",
      "[-4 -1 -2 -2]\n",
      "[ 5  6 15 24]\n",
      "[0.2        0.66666667 0.6        0.66666667]\n"
     ]
    }
   ],
   "source": [
    "##Vectorized functionality \n",
    "vectors=np.array([1,2,3,4])\n",
    "vectors1=np.array([5,3,5,6])\n",
    "\n",
    "## every thing is done index wise \n",
    "## elements wise addition\n",
    "print(vectors+vectors1)\n",
    "\n",
    "## elements wise subtraction\n",
    "print(vectors-vectors1)\n",
    "\n",
    "## elements wise multiplication\n",
    "print(vectors*vectors1)\n",
    "\n",
    "## elements wise division\n",
    "print(vectors/vectors1)"
   ]
  },
  {
   "cell_type": "code",
   "execution_count": 22,
   "metadata": {},
   "outputs": [
    {
     "name": "stdout",
     "output_type": "stream",
     "text": [
      "[1.         1.41421356 1.73205081 2.        ]\n",
      "[ 0.84147098  0.90929743  0.14112001 -0.7568025 ]\n",
      "[0.         0.69314718 1.09861229 1.38629436]\n",
      "[ 2.71828183  7.3890561  20.08553692 54.59815003]\n"
     ]
    }
   ],
   "source": [
    "##universal functions\n",
    "\n",
    "## this is also done elements wise\n",
    "arr1=np.array([1,2,3,4])\n",
    "##sqrt \n",
    "print(np.sqrt(arr1))\n",
    "##sin\n",
    "print(np.sin(arr1))\n",
    "##log\n",
    "print(np.log(arr1))\n",
    "##exponential\n",
    "print(np.exp(arr1))\n",
    "\n"
   ]
  },
  {
   "cell_type": "code",
   "execution_count": null,
   "metadata": {},
   "outputs": [
    {
     "name": "stdout",
     "output_type": "stream",
     "text": [
      "Array: \n",
      " [[ 1  2  3  4]\n",
      " [ 5  6  7  8]\n",
      " [ 9 10 11 12]]\n",
      "Array Dimension?: 2\n"
     ]
    }
   ],
   "source": [
    "##slicing index\n",
    "slicing_index=np.array([[1,2,3,4],[5,6,7,8],[9,10,11,12]])\n",
    "print(\"Array: \\n\",slicing_index)\n",
    "print(\"Array Dimension?:\",slicing_index.ndim)\n"
   ]
  },
  {
   "cell_type": "code",
   "execution_count": 28,
   "metadata": {},
   "outputs": [
    {
     "data": {
      "text/plain": [
       "1"
      ]
     },
     "execution_count": 28,
     "metadata": {},
     "output_type": "execute_result"
    }
   ],
   "source": [
    "## to access an element will do index slicing -- not mango slice but real slicing\n",
    "slicing_index[0][0]"
   ]
  },
  {
   "cell_type": "code",
   "execution_count": 29,
   "metadata": {},
   "outputs": [
    {
     "data": {
      "text/plain": [
       "array([[ 7,  8],\n",
       "       [11, 12]])"
      ]
     },
     "execution_count": 29,
     "metadata": {},
     "output_type": "execute_result"
    }
   ],
   "source": [
    "slicing_index[1:,2:]"
   ]
  },
  {
   "cell_type": "code",
   "execution_count": 31,
   "metadata": {},
   "outputs": [
    {
     "data": {
      "text/plain": [
       "array([[1, 2],\n",
       "       [5, 6]])"
      ]
     },
     "execution_count": 31,
     "metadata": {},
     "output_type": "execute_result"
    }
   ],
   "source": [
    "slicing_index[0:2,0:2]"
   ]
  },
  {
   "cell_type": "code",
   "execution_count": 32,
   "metadata": {},
   "outputs": [
    {
     "data": {
      "text/plain": [
       "array([[6, 7, 8]])"
      ]
     },
     "execution_count": 32,
     "metadata": {},
     "output_type": "execute_result"
    }
   ],
   "source": [
    "slicing_index[1:2,1:]"
   ]
  },
  {
   "cell_type": "code",
   "execution_count": 34,
   "metadata": {},
   "outputs": [
    {
     "name": "stdout",
     "output_type": "stream",
     "text": [
      "[[   1    2    3    4]\n",
      " [   5    6    7    8]\n",
      " [   9   10 1214   12]]\n"
     ]
    }
   ],
   "source": [
    "## wE CAN ALSO MODIFY THE ELEMENTS\n",
    "slicing_index[2,2]=1214\n",
    "print(slicing_index)"
   ]
  },
  {
   "cell_type": "code",
   "execution_count": 35,
   "metadata": {},
   "outputs": [
    {
     "name": "stdout",
     "output_type": "stream",
     "text": [
      "[[   1    2    3    4]\n",
      " [1214 1214 1214 1214]\n",
      " [1214 1214 1214 1214]]\n"
     ]
    }
   ],
   "source": [
    "##also we can change whole elments series \n",
    "slicing_index[1:,]=1214\n",
    "print(slicing_index)"
   ]
  },
  {
   "cell_type": "code",
   "execution_count": 38,
   "metadata": {},
   "outputs": [
    {
     "name": "stdout",
     "output_type": "stream",
     "text": [
      "Mean of the given_data: 3.0\n",
      "Standard Deviation of the given_data: 1.4142135623730951\n",
      "Normalized data: [-1.41421356 -0.70710678  0.          1.41421356  0.70710678]\n"
     ]
    }
   ],
   "source": [
    "##lets calculate normalizagtion of data \n",
    "given_data=np.array([1,2,3,5,4])\n",
    "mean=np.mean(given_data)\n",
    "print(\"Mean of the given_data:\",mean)\n",
    "std_dev=np.std(given_data)\n",
    "print(\"Standard Deviation of the given_data:\",std_dev)\n",
    "\n",
    "normalized_data=(given_data-mean)/std_dev\n",
    "\n",
    "print(\"Normalized data:\",normalized_data)"
   ]
  },
  {
   "cell_type": "code",
   "execution_count": null,
   "metadata": {},
   "outputs": [
    {
     "name": "stdout",
     "output_type": "stream",
     "text": [
      "Mean of the data: 3.0\n",
      "Standard Deviation of the data: 1.4142135623730951\n",
      "Medain of the data: 3.0\n",
      "Variation of the data: 2.0\n"
     ]
    }
   ],
   "source": [
    "##to calculate the mean,median,mode of the data\n",
    "data=np.array([1,2,3,4,5])\n",
    "##Mean of the data\n",
    "mean=np.mean(data)\n",
    "print(\"Mean of the data:\",mean)\n",
    "##Standard deviation of the data\n",
    "std_dev=np.std(data)\n",
    "print(\"Standard Deviation of the data:\",std_dev)\n",
    "##meadian of the data\n",
    "median_data=np.median(data)\n",
    "print(\"Medain of the data:\",median_data)\n",
    "##variance of the data\n",
    "variation_Data=np.var(data)\n",
    "print(\"Variance of the data:\",variation_Data)"
   ]
  },
  {
   "cell_type": "code",
   "execution_count": 43,
   "metadata": {},
   "outputs": [
    {
     "name": "stdout",
     "output_type": "stream",
     "text": [
      "[False False False False False  True  True  True]\n",
      "[6 7 8]\n",
      "[6 7]\n"
     ]
    }
   ],
   "source": [
    "##Logical operation\n",
    "data=np.array([1,2,3,4,5,6,7,8])\n",
    "print(data>5)\n",
    "print(data[data>5])\n",
    "print(data[(data>5) & (data<8)])##--> cannot use 'and' operator in this we need to use '&' for logival opertion in numpy"
   ]
  },
  {
   "cell_type": "code",
   "execution_count": null,
   "metadata": {},
   "outputs": [],
   "source": []
  }
 ],
 "metadata": {
  "kernelspec": {
   "display_name": "base",
   "language": "python",
   "name": "python3"
  },
  "language_info": {
   "codemirror_mode": {
    "name": "ipython",
    "version": 3
   },
   "file_extension": ".py",
   "mimetype": "text/x-python",
   "name": "python",
   "nbconvert_exporter": "python",
   "pygments_lexer": "ipython3",
   "version": "3.12.7"
  }
 },
 "nbformat": 4,
 "nbformat_minor": 2
}
