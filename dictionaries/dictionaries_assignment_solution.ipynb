{
 "cells": [
  {
   "cell_type": "markdown",
   "metadata": {},
   "source": [
    "# Module 3: Data Structures Assignments\n",
    "## Lesson 3.4: Dictionaries\n",
    "### Assignment 1: Creating and Accessing Dictionaries\n",
    "\n",
    "Create a dictionary with the first 10 positive integers as keys and their squares as values. Print the dictionary."
   ]
  },
  {
   "cell_type": "code",
   "execution_count": 9,
   "metadata": {},
   "outputs": [
    {
     "name": "stdout",
     "output_type": "stream",
     "text": [
      "{1: 1, 2: 4, 3: 9, 4: 16, 5: 25, 6: 36, 7: 49, 8: 64, 9: 81, 10: 100}\n"
     ]
    }
   ],
   "source": [
    "dict_int={x:x**2 for x in range(1,11)}\n",
    "print(dict_int)"
   ]
  },
  {
   "cell_type": "code",
   "execution_count": 3,
   "id": "684245d0",
   "metadata": {},
   "outputs": [
    {
     "name": "stdout",
     "output_type": "stream",
     "text": [
      "{2: 8, 4: 64, 6: 216, 8: 512, 10: 1000, 12: 1728, 14: 2744, 16: 4096, 18: 5832, 20: 8000, 22: 10648, 24: 13824, 26: 17576, 28: 21952, 30: 27000, 32: 32768, 34: 39304, 36: 46656, 38: 54872, 40: 64000, 42: 74088, 44: 85184, 46: 97336, 48: 110592, 50: 125000, 52: 140608, 54: 157464, 56: 175616, 58: 195112, 60: 216000, 62: 238328, 64: 262144, 66: 287496, 68: 314432, 70: 343000, 72: 373248, 74: 405224, 76: 438976, 78: 474552, 80: 512000, 82: 551368, 84: 592704, 86: 636056, 88: 681472, 90: 729000, 92: 778688, 94: 830584, 96: 884736, 98: 941192, 100: 1000000}\n"
     ]
    }
   ],
   "source": [
    "dict_inte={x:x**3 for x in range(1,101) if x%2==0}\n",
    "print(dict_inte)"
   ]
  },
  {
   "cell_type": "markdown",
   "metadata": {},
   "source": [
    "### Assignment 2: Accessing Dictionary Elements\n",
    "\n",
    "Print the value of the key 5 and the keys of the dictionary created in Assignment 1."
   ]
  },
  {
   "cell_type": "code",
   "execution_count": 11,
   "metadata": {},
   "outputs": [
    {
     "name": "stdout",
     "output_type": "stream",
     "text": [
      "Value of key 5: 25\n",
      "Keys: [1, 2, 3, 4, 5, 6, 7, 8, 9, 10]\n"
     ]
    }
   ],
   "source": [
    "print(f\"Value of key 5: {dict_int[5]}\")\n",
    "print(f\"Keys: {list(dict_int.keys())}\")"
   ]
  },
  {
   "cell_type": "markdown",
   "metadata": {},
   "source": [
    "### Assignment 3: Dictionary Methods\n",
    "\n",
    "Add a new key-value pair (11, 121) to the dictionary created in Assignment 1 and then remove the key-value pair with key 1. Print the modified dictionary."
   ]
  },
  {
   "cell_type": "code",
   "execution_count": 13,
   "metadata": {},
   "outputs": [
    {
     "name": "stdout",
     "output_type": "stream",
     "text": [
      "{2: 4, 3: 9, 4: 16, 5: 25, 6: 36, 7: 49, 8: 64, 9: 81, 10: 100, 11: 121}\n"
     ]
    }
   ],
   "source": [
    "dict_int[11]=121\n",
    "dict_int.pop(1)\n",
    "print(dict_int)"
   ]
  },
  {
   "cell_type": "markdown",
   "metadata": {},
   "source": [
    "### Assignment 4: Iterating Over Dictionaries\n",
    "\n",
    "Iterate over the dictionary created in Assignment 1 and print each key-value pair."
   ]
  },
  {
   "cell_type": "code",
   "execution_count": 16,
   "metadata": {},
   "outputs": [
    {
     "name": "stdout",
     "output_type": "stream",
     "text": [
      "2: 4 3: 9 4: 16 5: 25 6: 36 7: 49 8: 64 9: 81 10: 100 11: 121 "
     ]
    }
   ],
   "source": [
    "for key, value in dict_int.items():\n",
    "    print(f\"{key}: {value}\",end=\" \")"
   ]
  },
  {
   "cell_type": "markdown",
   "metadata": {},
   "source": [
    "### Assignment 5: Dictionary Comprehensions\n",
    "\n",
    "Create a new dictionary containing the cubes of the first 10 positive integers using a dictionary comprehension. Print the new dictionary."
   ]
  },
  {
   "cell_type": "code",
   "execution_count": 21,
   "metadata": {},
   "outputs": [
    {
     "name": "stdout",
     "output_type": "stream",
     "text": [
      "{1: 1, 2: 8, 3: 27, 4: 64, 5: 125, 6: 216, 7: 343, 8: 512, 9: 729, 10: 1000}\n"
     ]
    }
   ],
   "source": [
    "cube_number={x:x**3 for x in range(1,11)}\n",
    "print(cube_number)"
   ]
  },
  {
   "cell_type": "markdown",
   "metadata": {},
   "source": [
    "### Assignment 6: Merging Dictionaries\n",
    "\n",
    "Create two dictionaries: one with keys as the first 5 positive integers and values as their squares, and another with keys as the next 5 positive integers and values as their squares. Merge these dictionaries into a single dictionary and print it."
   ]
  },
  {
   "cell_type": "code",
   "execution_count": 23,
   "metadata": {},
   "outputs": [
    {
     "name": "stdout",
     "output_type": "stream",
     "text": [
      "{6: 36, 7: 49, 8: 64, 9: 81, 10: 100, 1: 1, 2: 4, 3: 9, 4: 16, 5: 25}\n"
     ]
    }
   ],
   "source": [
    "dict_number1 = {i: i**2 for i in range(1, 6)}\n",
    "dict_number22 = {i: i**2 for i in range(6, 11)}\n",
    "dict_number22.update(dict_number1)\n",
    "print(dict_number22)"
   ]
  },
  {
   "cell_type": "markdown",
   "metadata": {},
   "source": [
    "### Assignment 7: Nested Dictionaries\n",
    "\n",
    "Create a nested dictionary representing a student with keys 'name', 'age', 'grades', where 'grades' is another dictionary with keys 'math', 'science', and 'english'. Print the nested dictionary."
   ]
  },
  {
   "cell_type": "code",
   "execution_count": 27,
   "metadata": {},
   "outputs": [
    {
     "name": "stdout",
     "output_type": "stream",
     "text": [
      "84\n"
     ]
    }
   ],
   "source": [
    "students={\n",
    "    \"name\": \"KaTi\",\n",
    "    \"age\":22,\n",
    "    \"grades\":{\n",
    "        \"maths\":97,\n",
    "        \"science\":98,\n",
    "        \"english\":84\n",
    "    }\n",
    "  \n",
    "\n",
    "}\n",
    "print(students[\"grades\"][\"english\"])"
   ]
  },
  {
   "cell_type": "markdown",
   "metadata": {},
   "source": [
    "### Assignment 8: Dictionary of Lists\n",
    "\n",
    "Create a dictionary where the keys are the first 5 positive integers and the values are lists containing the first 5 multiples of the key. Print the dictionary."
   ]
  },
  {
   "cell_type": "code",
   "execution_count": 29,
   "metadata": {},
   "outputs": [
    {
     "name": "stdout",
     "output_type": "stream",
     "text": [
      "{1: [1, 2, 3, 4, 5], 2: [2, 4, 6, 8, 10], 3: [3, 6, 9, 12, 15], 4: [4, 8, 12, 16, 20], 5: [5, 10, 15, 20, 25]}\n"
     ]
    }
   ],
   "source": [
    "multiples_dict = {i:[i*j for j in range(1,6)] for i in range(1,6)}\n",
    "print(multiples_dict)"
   ]
  },
  {
   "cell_type": "markdown",
   "metadata": {},
   "source": [
    "### Assignment 9: Dictionary of Tuples\n",
    "\n",
    "Create a dictionary where the keys are the first 5 positive integers and the values are tuples containing the key and its square. Print the dictionary."
   ]
  },
  {
   "cell_type": "code",
   "execution_count": 30,
   "metadata": {},
   "outputs": [
    {
     "name": "stdout",
     "output_type": "stream",
     "text": [
      "{1: (1, 1), 2: (2, 4), 3: (3, 9), 4: (4, 16), 5: (5, 25)}\n"
     ]
    }
   ],
   "source": [
    "tuple_dict = {i: (i, i**2) for i in range(1, 6)}\n",
    "print(tuple_dict)"
   ]
  },
  {
   "cell_type": "markdown",
   "metadata": {},
   "source": [
    "### Assignment 10: Dictionary and List Conversion\n",
    "\n",
    "Create a dictionary with the first 5 positive integers as keys and their squares as values. Convert the dictionary to a list of tuples and print it."
   ]
  },
  {
   "cell_type": "code",
   "execution_count": 31,
   "metadata": {},
   "outputs": [
    {
     "name": "stdout",
     "output_type": "stream",
     "text": [
      "[(1, 1), (2, 4), (3, 9), (4, 16), (5, 25)]\n"
     ]
    }
   ],
   "source": [
    "d = {i: i**2 for i in range(1, 6)}\n",
    "list_of_tuples = list(d.items())\n",
    "print(list_of_tuples)"
   ]
  },
  {
   "cell_type": "markdown",
   "metadata": {},
   "source": [
    "### Assignment 11: Dictionary Filtering\n",
    "\n",
    "Create a dictionary with the first 10 positive integers as keys and their squares as values. Create a new dictionary containing only the key-value pairs where the key is even. Print the new dictionary."
   ]
  },
  {
   "cell_type": "code",
   "execution_count": 32,
   "metadata": {},
   "outputs": [
    {
     "name": "stdout",
     "output_type": "stream",
     "text": [
      "{2: 4, 4: 16, 6: 36, 8: 64, 10: 100}\n"
     ]
    }
   ],
   "source": [
    "d = {i: i**2 for i in range(1, 11)}\n",
    "even_dict = {k: v for k, v in d.items() if k % 2 == 0}\n",
    "print(even_dict)"
   ]
  },
  {
   "cell_type": "markdown",
   "metadata": {},
   "source": [
    "### Assignment 12: Dictionary Key and Value Transformation\n",
    "\n",
    "Create a dictionary with the first 5 positive integers as keys and their squares as values. Create a new dictionary with keys and values swapped. Print the new dictionary."
   ]
  },
  {
   "cell_type": "code",
   "execution_count": 33,
   "metadata": {},
   "outputs": [
    {
     "name": "stdout",
     "output_type": "stream",
     "text": [
      "{1: 1, 4: 2, 9: 3, 16: 4, 25: 5}\n"
     ]
    }
   ],
   "source": [
    "d = {i: i**2 for i in range(1, 6)}\n",
    "swapped_dict = {v: k for k, v in d.items()}\n",
    "print(swapped_dict)"
   ]
  },
  {
   "cell_type": "markdown",
   "metadata": {},
   "source": [
    "### Assignment 13: Default Dictionary\n",
    "\n",
    "Create a default dictionary where each key has a default value of an empty list. Add some elements to the lists and print the dictionary."
   ]
  },
  {
   "cell_type": "code",
   "execution_count": 34,
   "metadata": {},
   "outputs": [
    {
     "name": "stdout",
     "output_type": "stream",
     "text": [
      "defaultdict(<class 'list'>, {'a': [1, 2], 'b': [3]})\n"
     ]
    }
   ],
   "source": [
    "from collections import defaultdict\n",
    "\n",
    "default_dict = defaultdict(list)\n",
    "default_dict['a'].append(1)\n",
    "default_dict['a'].append(2)\n",
    "default_dict['b'].append(3)\n",
    "print(default_dict)"
   ]
  },
  {
   "cell_type": "markdown",
   "metadata": {},
   "source": [
    "### Assignment 14: Counting with Dictionaries\n",
    "\n",
    "Write a function that takes a string and returns a dictionary with the count of each character in the string. Print the dictionary."
   ]
  },
  {
   "cell_type": "code",
   "execution_count": 36,
   "metadata": {},
   "outputs": [
    {
     "name": "stdout",
     "output_type": "stream",
     "text": [
      "{'h': 1, 'e': 1, 'l': 3, 'o': 2, ' ': 1, 'w': 1, 'r': 1, 'd': 1}\n"
     ]
    }
   ],
   "source": [
    "def count_chars(s):\n",
    "    count_dict = {}\n",
    "    for char in s:\n",
    "        count_dict[char] = count_dict.get(char, 0) + 1\n",
    "    return count_dict\n",
    "\n",
    "string = \"hello world\"\n",
    "print(count_chars(string))"
   ]
  },
  {
   "cell_type": "markdown",
   "metadata": {},
   "source": [
    "### Assignment 15: Dictionary and JSON\n",
    "\n",
    "Create a dictionary representing a book with keys 'title', 'author', 'year', and 'genre'. Convert the dictionary to a JSON string and print it."
   ]
  },
  {
   "cell_type": "code",
   "execution_count": 35,
   "metadata": {},
   "outputs": [
    {
     "name": "stdout",
     "output_type": "stream",
     "text": [
      "{\"title\": \"To Kill a Mockingbird\", \"author\": \"Harper Lee\", \"year\": 1960, \"genre\": \"Fiction\"}\n"
     ]
    }
   ],
   "source": [
    "import json\n",
    "\n",
    "book = {\n",
    "    'title': 'To Kill a Mockingbird',\n",
    "    'author': 'Harper Lee',\n",
    "    'year': 1960,\n",
    "    'genre': 'Fiction'\n",
    "}\n",
    "book_json = json.dumps(book)\n",
    "print(book_json)"
   ]
  }
 ],
 "metadata": {
  "kernelspec": {
   "display_name": "base",
   "language": "python",
   "name": "python3"
  },
  "language_info": {
   "codemirror_mode": {
    "name": "ipython",
    "version": 3
   },
   "file_extension": ".py",
   "mimetype": "text/x-python",
   "name": "python",
   "nbconvert_exporter": "python",
   "pygments_lexer": "ipython3",
   "version": "3.12.7"
  }
 },
 "nbformat": 4,
 "nbformat_minor": 5
}
