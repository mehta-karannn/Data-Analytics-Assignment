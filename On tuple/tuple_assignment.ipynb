{
 "cells": [
  {
   "cell_type": "markdown",
   "id": "6cade624",
   "metadata": {},
   "source": [
    "# Module 3: Data Structures Assignments\n",
    "## Lesson 3.2: Tuples\n",
    "### Assignment 1: Creating and Accessing Tuples\n",
    "\n",
    "Create a tuple with the first 10 positive integers. Print the tuple.\n",
    "\n",
    "### Assignment 2: Accessing Tuple Elements\n",
    "\n",
    "Print the first, middle, and last elements of the tuple created in Assignment 1.\n",
    "\n",
    "### Assignment 3: Tuple Slicing\n",
    "\n",
    "Print the first three elements, the last three elements, and the elements from index 2 to 5 of the tuple created in Assignment 1.\n",
    "\n",
    "### Assignment 4: Nested Tuples\n",
    "\n",
    "Create a nested tuple representing a 3x3 matrix and print the matrix. Access and print the element at the second row and third column.\n",
    "\n",
    "### Assignment 5: Tuple Concatenation\n",
    "\n",
    "Concatenate two tuples: (1, 2, 3) and (4, 5, 6). Print the resulting tuple.\n",
    "\n",
    "### Assignment 6: Tuple Methods\n",
    "\n",
    "Create a tuple with duplicate elements and count the occurrences of an element. Find the index of the first occurrence of an element in the tuple.\n",
    "\n",
    "### Assignment 7: Unpacking Tuples\n",
    "\n",
    "Create a tuple with 5 elements and unpack it into 5 variables. Print the variables.\n",
    "\n",
    "### Assignment 8: Tuple Conversion\n",
    "\n",
    "Convert a list of the first 5 positive integers to a tuple. Print the tuple.\n",
    "\n",
    "### Assignment 9: Tuple of Tuples\n",
    "\n",
    "Create a tuple containing 3 tuples, each with 3 elements. Print the tuple of tuples.\n",
    "\n",
    "### Assignment 10: Tuple and List\n",
    "\n",
    "Create a tuple with the first 5 positive integers. Convert it to a list, append the number 6, and convert it back to a tuple. Print the resulting tuple.\n",
    "\n",
    "### Assignment 11: Tuple and String\n",
    "\n",
    "Create a tuple with the characters of a string. Join the tuple elements into a single string. Print the string.\n",
    "\n",
    "### Assignment 12: Tuple and Dictionary\n",
    "\n",
    "Create a dictionary with tuple keys and integer values. Print the dictionary.\n",
    "\n",
    "### Assignment 13: Nested Tuple Iteration\n",
    "\n",
    "Create a nested tuple and iterate over the elements, printing each element.\n",
    "\n",
    "### Assignment 14: Tuple and Set\n",
    "\n",
    "Create a tuple with duplicate elements. Convert it to a set to remove duplicates and print the resulting set.\n",
    "\n",
    "### Assignment 15: Tuple Functions\n",
    "\n",
    "Write functions that take a tuple and return the minimum, maximum, and sum of the elements. Print the results for a sample tuple."
   ]
  },
  {
   "cell_type": "code",
   "execution_count": 2,
   "metadata": {},
   "outputs": [
    {
     "name": "stdout",
     "output_type": "stream",
     "text": [
      "(1, 2, 3, 4, 5, 6, 7, 8, 9, 10)\n",
      "<class 'tuple'>\n"
     ]
    }
   ],
   "source": [
    "##Assignment 1\n",
    "venumbers=tuple(range(1,11))\n",
    "print(venumbers)\n",
    "print(type(venumbers))"
   ]
  },
  {
   "cell_type": "code",
   "execution_count": 6,
   "id": "4b0ddf38",
   "metadata": {},
   "outputs": [
    {
     "name": "stdout",
     "output_type": "stream",
     "text": [
      "The First Number is 1\n",
      "the Middle Number is 6\n",
      "the last number is 10\n"
     ]
    }
   ],
   "source": [
    "print(f\"The First Number is {venumbers[0]}\")\n",
    "print(f\"the Middle Number is {venumbers[len(venumbers)//2]}\")\n",
    "print(f\"the last number is {venumbers[-1]}\")"
   ]
  },
  {
   "cell_type": "code",
   "execution_count": 6,
   "id": "71109ca9",
   "metadata": {},
   "outputs": [
    {
     "name": "stdout",
     "output_type": "stream",
     "text": [
      "(1, 2, 3, 4)\n",
      "(8, 9, 10)\n",
      "(3, 4, 5, 6)\n"
     ]
    }
   ],
   "source": [
    "### Assignment 3: Tuple Slicing\n",
    "\n",
    "##Print the first three elements, the last three elements, and the elements from index \n",
    "#2 to 5 of the tuple created in Assignment 1.\n",
    "\n",
    "print(venumbers[0:4])\n",
    "print(venumbers[-3:])\n",
    "print(venumbers[2:6])\n"
   ]
  },
  {
   "cell_type": "code",
   "execution_count": 13,
   "id": "68731a7f",
   "metadata": {},
   "outputs": [
    {
     "name": "stdout",
     "output_type": "stream",
     "text": [
      "Matrix:\n",
      "(1, 2, 3)\n",
      "(4, 3, 5)\n",
      "(7, 8, 9)\n",
      "5\n"
     ]
    }
   ],
   "source": [
    "matrix=(\n",
    "    (1,2,3),\n",
    "    (4,3,5),\n",
    "    (7,8,9)\n",
    ")\n",
    "print(\"Matrix:\")\n",
    "for row in matrix:\n",
    "    print(row)\n",
    "print(matrix[1][2])\n",
    "\n"
   ]
  },
  {
   "cell_type": "code",
   "execution_count": null,
   "id": "5252082a",
   "metadata": {},
   "outputs": [
    {
     "name": "stdout",
     "output_type": "stream",
     "text": [
      "(1, 2, 3, 4, 5, 6)\n"
     ]
    }
   ],
   "source": [
    "###Assignment 5\n",
    "tuple1=tuple(range(1,4))\n",
    "tuple2=tuple(range(4,7))\n",
    "concenate_tuple=tuple1+tuple2\n",
    "print(concenate_tuple)"
   ]
  },
  {
   "cell_type": "code",
   "execution_count": 11,
   "id": "4b3dda3b",
   "metadata": {},
   "outputs": [
    {
     "name": "stdout",
     "output_type": "stream",
     "text": [
      "[1, 2, 2, 2, 3, 4, 5, 6, 7, 2, 3, 4]\n",
      "Number: 1, Count: 1, Index: 0\n",
      "Number: 2, Count: 4, Index: 1\n",
      "Number: 2, Count: 4, Index: 1\n",
      "Number: 2, Count: 4, Index: 1\n",
      "Number: 3, Count: 2, Index: 4\n",
      "Number: 4, Count: 2, Index: 5\n",
      "Number: 5, Count: 1, Index: 6\n",
      "Number: 6, Count: 1, Index: 7\n",
      "Number: 7, Count: 1, Index: 8\n",
      "Number: 2, Count: 4, Index: 1\n",
      "Number: 3, Count: 2, Index: 4\n",
      "Number: 4, Count: 2, Index: 5\n"
     ]
    }
   ],
   "source": [
    "##Assignment 6\n",
    "numbers=[int(numbers) for numbers in input(\"Enter 10 random numbers:\").split()]\n",
    "print(numbers)\n",
    "for i in numbers:\n",
    "     print(f\"Number: {i}, Count: {numbers.count(i)}, Index: {numbers.index(i)}\")\n"
   ]
  },
  {
   "cell_type": "code",
   "execution_count": 18,
   "id": "c312896e",
   "metadata": {},
   "outputs": [
    {
     "name": "stdout",
     "output_type": "stream",
     "text": [
      "Dil:1,Prem:2,Love:3,Pyaar:4,Mohabbat:5\n"
     ]
    }
   ],
   "source": [
    "elements_tuple=tuple(range(1,6))\n",
    "Dil,Prem,Love,Pyaar,Mohabbat=elements_tuple\n",
    "print(f\"Dil:{Dil},Prem:{Prem},Love:{Love},Pyaar:{Pyaar},Mohabbat:{Mohabbat}\")\n"
   ]
  },
  {
   "cell_type": "code",
   "execution_count": 20,
   "id": "bb7b45d3",
   "metadata": {},
   "outputs": [
    {
     "name": "stdout",
     "output_type": "stream",
     "text": [
      "(1, 2, 3, 4, 5)\n",
      "<class 'list'>\n"
     ]
    }
   ],
   "source": [
    "lst=list(range(1,6))\n",
    "tpl_conversion=tuple(lst)\n",
    "print(tpl_conversion)\n",
    "print(type(lst))"
   ]
  },
  {
   "cell_type": "code",
   "execution_count": 22,
   "id": "9bdd9b91",
   "metadata": {},
   "outputs": [
    {
     "name": "stdout",
     "output_type": "stream",
     "text": [
      "((1, 2, 3), (4, 5, 6), (7, 8, 9))\n"
     ]
    }
   ],
   "source": [
    "tpl_original=((1,2,3),(4,5,6),(7,8,9))\n",
    "print(tpl_original)"
   ]
  },
  {
   "cell_type": "code",
   "execution_count": 32,
   "id": "68feac28",
   "metadata": {},
   "outputs": [
    {
     "name": "stdout",
     "output_type": "stream",
     "text": [
      "[1, 2, 3, 4, 5, 6]\n",
      "(1, 2, 3, 4, 5, 6)\n"
     ]
    }
   ],
   "source": [
    "tuple_positive=(1,2,3,4,5)\n",
    "tuple_conversion=list(tuple_positive)\n",
    "tuple_conversion.append(6)\n",
    "print(tuple_conversion)\n",
    "to_tuple_again=tuple(tuple_conversion)\n",
    "print(to_tuple_again)\n"
   ]
  },
  {
   "cell_type": "code",
   "execution_count": 33,
   "id": "faf3bfa0",
   "metadata": {},
   "outputs": [
    {
     "name": "stdout",
     "output_type": "stream",
     "text": [
      "kari\n"
     ]
    }
   ],
   "source": [
    "char_tuple=(\"k\",\"a\",\"r\",\"i\")\n",
    "altogether=''.join(char_tuple)\n",
    "print(altogether)"
   ]
  },
  {
   "cell_type": "code",
   "execution_count": 36,
   "id": "fc3fa7c9",
   "metadata": {},
   "outputs": [
    {
     "name": "stdout",
     "output_type": "stream",
     "text": [
      "1 2 3 4 5 6 7 8 9 "
     ]
    }
   ],
   "source": [
    "tuples_original=(\n",
    "    (1,2,3),\n",
    "    (4,5,6),\n",
    "    (7,8,9)\n",
    ")\n",
    "for row in tuples_original:\n",
    "    for items in row:\n",
    "        print(items,end=\" \")"
   ]
  },
  {
   "cell_type": "code",
   "execution_count": 44,
   "id": "0b04309c",
   "metadata": {},
   "outputs": [
    {
     "name": "stdout",
     "output_type": "stream",
     "text": [
      "(1, 2, 3, 4, 52, 24, 2345)\n"
     ]
    }
   ],
   "source": [
    "from collections import Counter\n",
    "duplicates_tuples=(1,2,3,4,2,4,52,24,2345,52,1,1,1)\n",
    "remove_tuple=tuple(Counter(duplicates_tuples))\n",
    "print(remove_tuple)\n"
   ]
  },
  {
   "cell_type": "code",
   "execution_count": 46,
   "id": "3c850a71",
   "metadata": {},
   "outputs": [
    {
     "name": "stdout",
     "output_type": "stream",
     "text": [
      "(1, 2, 3, 4, 2345, 52, 24)\n"
     ]
    }
   ],
   "source": [
    "removes_tuple=tuple(set(duplicates_tuples))\n",
    "print(removes_tuple)"
   ]
  },
  {
   "cell_type": "code",
   "execution_count": 45,
   "id": "e1e60d33",
   "metadata": {},
   "outputs": [
    {
     "name": "stdout",
     "output_type": "stream",
     "text": [
      "The original tuple is:(1, 2, 3, 4, 2, 4, 52, 24, 2345, 52, 1, 1, 1) \n",
      "(1, 2, 3, 4, 52, 24, 2345)\n"
     ]
    }
   ],
   "source": [
    "\n",
    "print(f\"The original tuple is:{duplicates_tuples} \")\n",
    "new_numbers=[]\n",
    "for i in duplicates_tuples:\n",
    "    if i not in new_numbers:\n",
    "        new_numbers.append(i)\n",
    "after_removing=tuple(new_numbers)\n",
    "print(after_removing)\n"
   ]
  },
  {
   "cell_type": "code",
   "execution_count": 57,
   "id": "91788cab",
   "metadata": {},
   "outputs": [
    {
     "name": "stdout",
     "output_type": "stream",
     "text": [
      "(1, 2, 3, 4, 5)\n",
      "Minimum value is : 1\n"
     ]
    }
   ],
   "source": [
    "def minimum_tuple(tp1):\n",
    "    return min(tp1)\n",
    "sample_tuple= (1,2,3,4,5)\n",
    "print(sample_tuple)\n",
    "print(f\"Minimum value is : {minimum_tuple(sample_tuple)}\")\n",
    "\n"
   ]
  }
 ],
 "metadata": {
  "kernelspec": {
   "display_name": "base",
   "language": "python",
   "name": "python3"
  },
  "language_info": {
   "codemirror_mode": {
    "name": "ipython",
    "version": 3
   },
   "file_extension": ".py",
   "mimetype": "text/x-python",
   "name": "python",
   "nbconvert_exporter": "python",
   "pygments_lexer": "ipython3",
   "version": "3.12.7"
  }
 },
 "nbformat": 4,
 "nbformat_minor": 5
}
