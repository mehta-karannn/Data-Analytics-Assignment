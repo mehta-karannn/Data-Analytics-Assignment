{
 "cells": [
  {
   "cell_type": "code",
   "execution_count": 2,
   "metadata": {},
   "outputs": [
    {
     "name": "stdout",
     "output_type": "stream",
     "text": [
      "heloo\n",
      "iam karan \n",
      "loveable ignorable and khadus\n"
     ]
    }
   ],
   "source": [
    "with open('example.txt','r') as file:\n",
    "    content=file.read()\n",
    "    print(content)\n"
   ]
  },
  {
   "cell_type": "code",
   "execution_count": 14,
   "metadata": {},
   "outputs": [
    {
     "name": "stdout",
     "output_type": "stream",
     "text": [
      "hello\n",
      "this is a new lineAppend operation Append operation\n",
      "\n"
     ]
    }
   ],
   "source": [
    "with open('example.txt','r') as file:\n",
    "    for line in file:\n",
    "        print(line.strip())#removes new line charater"
   ]
  },
  {
   "cell_type": "code",
   "execution_count": null,
   "metadata": {},
   "outputs": [],
   "source": [
    "with open('example.txt','w',newline='') as file:\n",
    "    file.write(\"hello\\n\")\n",
    "    file.write('this is a new line')\n",
    "    "
   ]
  },
  {
   "cell_type": "code",
   "execution_count": 16,
   "metadata": {},
   "outputs": [],
   "source": [
    "with open('example.txt','a') as file:\n",
    "    file.write(\"Append operation \\n \")"
   ]
  },
  {
   "cell_type": "code",
   "execution_count": 15,
   "metadata": {},
   "outputs": [],
   "source": [
    "lines=['first line\\n','second line\\n','third line\\n']\n",
    "with open('example.txt','a') as file:\n",
    "    file.writelines(lines)"
   ]
  },
  {
   "cell_type": "code",
   "execution_count": 17,
   "metadata": {},
   "outputs": [],
   "source": [
    "###binary files\n",
    "data=b'\\x00\\x01\\x02\\x03\\x04'\n",
    "with open('example.bin','wb') as file:\n",
    "    file.write(data)"
   ]
  },
  {
   "cell_type": "code",
   "execution_count": 18,
   "metadata": {},
   "outputs": [
    {
     "name": "stdout",
     "output_type": "stream",
     "text": [
      "b'\\x00\\x01\\x02\\x03\\x04'\n"
     ]
    }
   ],
   "source": [
    "with open('example.bin','rb') as file:\n",
    "    content=file.read()\n",
    "    print(content)"
   ]
  },
  {
   "cell_type": "code",
   "execution_count": 20,
   "metadata": {},
   "outputs": [
    {
     "name": "stdout",
     "output_type": "stream",
     "text": [
      "hello\n",
      "this is a new lineAppend operation Append operation\n",
      " first line\n",
      "second line\n",
      "third line\n",
      "Append operation \n",
      " \n"
     ]
    }
   ],
   "source": [
    "### Read the content from the source file and write it to the destination text file\n",
    "with open('example.txt','r') as source_file:\n",
    "    content=source_file.read()\n",
    "\n",
    "with open('destination.txt','w') as destiation_file:\n",
    "    destiation_file.write(content)\n",
    "\n",
    "print(content)"
   ]
  },
  {
   "cell_type": "code",
   "execution_count": 26,
   "metadata": {},
   "outputs": [
    {
     "name": "stdout",
     "output_type": "stream",
     "text": [
      "Count of lines: 7\n",
      "Count of Character:112\n",
      "Word Count17\n"
     ]
    }
   ],
   "source": [
    "### read a text file and count the number of character ,linnes and words\n",
    "\n",
    "with open('example.txt','r') as file:\n",
    "    lines=file.readlines()\n",
    "    line_count=len(lines)\n",
    "    word_count=sum(len(line.split()) for line in lines)\n",
    "    char_count=sum(len(line) for line in lines)\n",
    "print(f\"Count of lines: {line_count}\\nCount of Character:{char_count}\\nWord Count{word_count}\")\n"
   ]
  },
  {
   "cell_type": "code",
   "execution_count": 27,
   "metadata": {},
   "outputs": [
    {
     "name": "stdout",
     "output_type": "stream",
     "text": [
      "Hello There \n",
      "This is a new world \n",
      "\n"
     ]
    }
   ],
   "source": [
    "####writing and reading a filw\n",
    "with open('example.txt','w+') as file:\n",
    "    file.write(\"Hello There \\n\")\n",
    "    file.write(\"This is a new world \\n\")\n",
    "## this moves the cursor from last to 0th index\n",
    "    file.seek(0)\n",
    "\n",
    "    content=file.read()\n",
    "    print(content)\n",
    "\n"
   ]
  }
 ],
 "metadata": {
  "kernelspec": {
   "display_name": "base",
   "language": "python",
   "name": "python3"
  },
  "language_info": {
   "codemirror_mode": {
    "name": "ipython",
    "version": 3
   },
   "file_extension": ".py",
   "mimetype": "text/x-python",
   "name": "python",
   "nbconvert_exporter": "python",
   "pygments_lexer": "ipython3",
   "version": "3.12.7"
  }
 },
 "nbformat": 4,
 "nbformat_minor": 2
}
