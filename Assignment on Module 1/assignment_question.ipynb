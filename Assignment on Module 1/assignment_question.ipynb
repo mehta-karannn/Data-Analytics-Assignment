{
 "cells": [
  {
   "cell_type": "markdown",
   "metadata": {},
   "source": [
    "# Lesson 1.2: Python Basics\n",
    "## Topics Covered:\n",
    "- Syntax and Semantics\n",
    "- Variables and Data Types\n",
    "- Basic Operators (Arithmetic, Comparison, Logical)\n"
   ]
  },
  {
   "cell_type": "markdown",
   "metadata": {},
   "source": [
    "## 1. Syntax and Semantics\n",
    "\n",
    "**Question 1:** Write a Python program to print \"Hello, World!\"."
   ]
  },
  {
   "cell_type": "code",
   "execution_count": 1,
   "metadata": {},
   "outputs": [
    {
     "name": "stdout",
     "output_type": "stream",
     "text": [
      "Hello,World!\n"
     ]
    }
   ],
   "source": [
    "# Your code here\n",
    "print(\"Hello,World!\")"
   ]
  },
  {
   "cell_type": "markdown",
   "metadata": {},
   "source": [
    "**Question 2:** Write a Python program that takes a user input and prints it."
   ]
  },
  {
   "cell_type": "code",
   "execution_count": 2,
   "metadata": {},
   "outputs": [
    {
     "name": "stdout",
     "output_type": "stream",
     "text": [
      "Karan is a Good Boy\n"
     ]
    }
   ],
   "source": [
    "# Your code here\n",
    "user_input=input()\n",
    "print(user_input)"
   ]
  },
  {
   "cell_type": "markdown",
   "metadata": {},
   "source": [
    "**Question 3:** Write a Python program to check if a number is positive, negative, or zero."
   ]
  },
  {
   "cell_type": "code",
   "execution_count": 4,
   "metadata": {},
   "outputs": [
    {
     "name": "stdout",
     "output_type": "stream",
     "text": [
      "Negative\n"
     ]
    }
   ],
   "source": [
    "# Your code here\n",
    "user_input=int(input())\n",
    "if user_input==0:\n",
    "    print(\"Zero\")\n",
    "elif user_input>0:\n",
    "    print(\"Positive\")\n",
    "else:\n",
    "    print(\"Negative\")"
   ]
  },
  {
   "cell_type": "markdown",
   "metadata": {},
   "source": [
    "**Question 4:** Write a Python program to find the largest of three numbers."
   ]
  },
  {
   "cell_type": "code",
   "execution_count": null,
   "metadata": {},
   "outputs": [
    {
     "name": "stdout",
     "output_type": "stream",
     "text": [
      "45 is greater than 12,31\n"
     ]
    }
   ],
   "source": [
    "# Your code here\n",
    "a,b,c=map(int,input().split())\n",
    "if a>b and a>c : \n",
    "    print(f\"{a} is greater than {b} , {c}\")\n",
    "elif b>a and b>c:\n",
    "    print(f\"{b} is greater than {a} , {c}\")\n",
    "else:\n",
    "    print(f\"{c} is greater than {a} , {b}\")"
   ]
  },
  {
   "cell_type": "markdown",
   "metadata": {},
   "source": [
    "**Question 5:** Write a Python program to calculate the factorial of a number."
   ]
  },
  {
   "cell_type": "code",
   "execution_count": 10,
   "metadata": {},
   "outputs": [
    {
     "name": "stdout",
     "output_type": "stream",
     "text": [
      "120\n"
     ]
    }
   ],
   "source": [
    "# Your code here\n",
    "factorial_number=int(input())\n",
    "if factorial_number==0:\n",
    "    print(1)\n",
    "else:\n",
    "    factorial=1\n",
    "    for i in range(1,factorial_number+1):\n",
    "        factorial*=i\n",
    "    print(factorial)\n",
    "\n",
    "\n"
   ]
  },
  {
   "cell_type": "markdown",
   "metadata": {},
   "source": [
    "## 2. Variables and Data Types\n",
    "\n",
    "**Question 6:** Create variables of different data types: integer, float, string, and boolean. Print their values and types."
   ]
  },
  {
   "cell_type": "code",
   "execution_count": 11,
   "metadata": {},
   "outputs": [
    {
     "name": "stdout",
     "output_type": "stream",
     "text": [
      "5 <class 'int'>\n",
      "5.1 <class 'float'>\n",
      "PYAAR <class 'str'>\n",
      "True <class 'bool'>\n"
     ]
    }
   ],
   "source": [
    "# Your code here\n",
    "int1=5\n",
    "print(int1,type(int1))\n",
    "float1=5.1\n",
    "print(float1,type(float1))\n",
    "string1=\"PYAAR\"\n",
    "print(string1,type(string1))\n",
    "boolean1=True\n",
    "print(boolean1,type(boolean1))"
   ]
  },
  {
   "cell_type": "markdown",
   "metadata": {},
   "source": [
    "**Question 7:** Write a Python program to swap the values of two variables."
   ]
  },
  {
   "cell_type": "code",
   "execution_count": 12,
   "metadata": {},
   "outputs": [
    {
     "name": "stdout",
     "output_type": "stream",
     "text": [
      "x is 14\n",
      "y is 10\n"
     ]
    }
   ],
   "source": [
    "# Your code here\n",
    "x=10\n",
    "y=14\n",
    "\n",
    "temp=x\n",
    "x=y\n",
    "y=temp\n",
    "\n",
    "print(f\"x is {x}\")\n",
    "print(f\"y is {y}\")"
   ]
  },
  {
   "cell_type": "code",
   "execution_count": 14,
   "metadata": {},
   "outputs": [
    {
     "name": "stdout",
     "output_type": "stream",
     "text": [
      "x is 14\n",
      "y is 10\n"
     ]
    }
   ],
   "source": [
    "x, y=y, x\n",
    "print(f\"x is {x}\")\n",
    "print(f\"y is {y}\")"
   ]
  },
  {
   "cell_type": "markdown",
   "metadata": {},
   "source": [
    "**Question 8:** Write a Python program to convert Celsius to Fahrenheit."
   ]
  },
  {
   "cell_type": "code",
   "execution_count": 15,
   "metadata": {},
   "outputs": [
    {
     "name": "stdout",
     "output_type": "stream",
     "text": [
      "The Outside temperature is 34 and the value of the temperature in Fahreneit is 93.2\n"
     ]
    }
   ],
   "source": [
    "# Your code here\n",
    "celsius_input=int(input(\"Enter the temperature of outside in Celsius:\"))\n",
    "fahreneit=(celsius_input*9/5 )+32\n",
    "\n",
    "print(f\"The Outside temperature is {celsius_input} and the value of the temperature in Fahreneit is {fahreneit}\")\n"
   ]
  },
  {
   "cell_type": "markdown",
   "metadata": {},
   "source": [
    "**Question 9:** Write a Python program to concatenate two strings."
   ]
  },
  {
   "cell_type": "code",
   "execution_count": 16,
   "metadata": {},
   "outputs": [
    {
     "name": "stdout",
     "output_type": "stream",
     "text": [
      "Karan Mehta\n"
     ]
    }
   ],
   "source": [
    "# Your code here\n",
    "str1=\"Karan\"\n",
    "str2=\"Mehta\"\n",
    "concatenate_string= str1 + \" \" + str2\n",
    "print(concatenate_string)"
   ]
  },
  {
   "cell_type": "markdown",
   "metadata": {},
   "source": [
    "**Question 10:** Write a Python program to check if a variable is of a specific data type."
   ]
  },
  {
   "cell_type": "code",
   "execution_count": 19,
   "metadata": {},
   "outputs": [
    {
     "name": "stdout",
     "output_type": "stream",
     "text": [
      "the variable input: True , belongs to:  <class 'bool'>\n"
     ]
    }
   ],
   "source": [
    "# Your code here\n",
    "a=True\n",
    "print(f\"the variable input: {a} , belongs to: \",type(a))"
   ]
  },
  {
   "cell_type": "markdown",
   "metadata": {},
   "source": [
    "## 3. Basic Operators (Arithmetic, Comparison, Logical)\n",
    "\n",
    "**Question 11:** Write a Python program to perform arithmetic operations: addition, subtraction, multiplication, and division."
   ]
  },
  {
   "cell_type": "code",
   "execution_count": 24,
   "metadata": {},
   "outputs": [
    {
     "name": "stdout",
     "output_type": "stream",
     "text": [
      "The addition ,subtraction,multiplication and division of 12.0 and 14.0 are \n",
      "1.Additon:26.0\n",
      "2.Subtraction:-2.0\n",
      "3.Multiplication:168.0\n",
      "4.Division:0.8571428571428571\n"
     ]
    }
   ],
   "source": [
    "# Your code here\n",
    "number_1,number_2=map(float,input().split())\n",
    "\n",
    "addition_operation=number_1+number_2\n",
    "subtraction_operation=number_1-number_2\n",
    "multiplication_operation=number_1*number_2\n",
    "division_operation=number_1/number_2\n",
    "\n",
    "print(f\"The addition ,subtraction,multiplication and division of {number_1} and {number_2} are \\n1.Additon:{addition_operation}\\n2.Subtraction:{subtraction_operation}\\n3.Multiplication:{multiplication_operation}\\n4.Division:{division_operation}\")"
   ]
  },
  {
   "cell_type": "markdown",
   "metadata": {},
   "source": [
    "**Question 12:** Write a Python program to demonstrate comparison operators: equal to, not equal to, greater than, less than."
   ]
  },
  {
   "cell_type": "code",
   "execution_count": 25,
   "metadata": {},
   "outputs": [
    {
     "name": "stdout",
     "output_type": "stream",
     "text": [
      "a is equal to b\n"
     ]
    }
   ],
   "source": [
    "# Your code here\n",
    "##equal to\n",
    "a=10\n",
    "b=10\n",
    "if a==b:\n",
    "    print(\"a is equal to b\")"
   ]
  },
  {
   "cell_type": "code",
   "execution_count": 26,
   "metadata": {},
   "outputs": [
    {
     "name": "stdout",
     "output_type": "stream",
     "text": [
      "a is not equal to b\n"
     ]
    }
   ],
   "source": [
    "## not equal to\n",
    "a=10\n",
    "b=14\n",
    "if a!=b:\n",
    "    print(\"a is not equal to b\")"
   ]
  },
  {
   "cell_type": "code",
   "execution_count": 28,
   "metadata": {},
   "outputs": [
    {
     "name": "stdout",
     "output_type": "stream",
     "text": [
      "a is smaller than b\n"
     ]
    }
   ],
   "source": [
    "##greater than and smaller than\n",
    "a,b=map(int,input().split())\n",
    "if a>b:\n",
    "    print(\"a is greater than b\")\n",
    "elif a<b:\n",
    "    print(\"a is smaller than b\")\n",
    "else:\n",
    "    print(\"both are equal\")"
   ]
  },
  {
   "cell_type": "markdown",
   "metadata": {},
   "source": [
    "**Question 13:** Write a Python program to demonstrate logical operators: and, or, not."
   ]
  },
  {
   "cell_type": "code",
   "execution_count": 31,
   "metadata": {},
   "outputs": [
    {
     "name": "stdout",
     "output_type": "stream",
     "text": [
      "it is greater\n",
      "a is greater\n"
     ]
    }
   ],
   "source": [
    "# Your code here\n",
    "##just to demonstrate the process \n",
    "a,b,c=map(int,input().split())\n",
    "if a>b or b>a:\n",
    "    print(\"it is greater\")\n",
    "if a>b and a>c:\n",
    "    print(\"a is greater\")\n",
    "else:\n",
    "    print(\"Something is greater\")\n"
   ]
  },
  {
   "cell_type": "markdown",
   "metadata": {},
   "source": [
    "**Question 14:** Write a Python program to calculate the square of a number."
   ]
  },
  {
   "cell_type": "code",
   "execution_count": 33,
   "metadata": {},
   "outputs": [
    {
     "name": "stdout",
     "output_type": "stream",
     "text": [
      "16\n"
     ]
    }
   ],
   "source": [
    "# Your code here\n",
    "n=int(input())\n",
    "print(n*n)"
   ]
  },
  {
   "cell_type": "markdown",
   "metadata": {},
   "source": [
    "**Question 15:** Write a Python program to check if a number is even or odd."
   ]
  },
  {
   "cell_type": "code",
   "execution_count": 36,
   "metadata": {},
   "outputs": [
    {
     "name": "stdout",
     "output_type": "stream",
     "text": [
      "The entered number 99 is odd\n"
     ]
    }
   ],
   "source": [
    "# Your code here\n",
    "n=int(input(\"Enter a number\"))\n",
    "if n%2==0:\n",
    "    print(f\"The entered number {n} is Even\")\n",
    "else:\n",
    "    print(f\"The entered number {n} is odd\")"
   ]
  },
  {
   "cell_type": "markdown",
   "metadata": {},
   "source": [
    "**Question 16:** Write a Python program to find the sum of the first n natural numbers."
   ]
  },
  {
   "cell_type": "code",
   "execution_count": 37,
   "metadata": {},
   "outputs": [
    {
     "name": "stdout",
     "output_type": "stream",
     "text": [
      "5050\n"
     ]
    }
   ],
   "source": [
    "# Your code here\n",
    "n=0\n",
    "for i in range(1,101):\n",
    "    n+=i\n",
    "print(n)\n"
   ]
  },
  {
   "cell_type": "code",
   "execution_count": 40,
   "metadata": {},
   "outputs": [
    {
     "name": "stdout",
     "output_type": "stream",
     "text": [
      "5050\n"
     ]
    }
   ],
   "source": [
    "n=int(input(\"Enter how much number u want to calculate:\"))\n",
    "sum=0\n",
    "for i in range(n+1):\n",
    "    sum+=i\n",
    "print(sum)"
   ]
  },
  {
   "cell_type": "markdown",
   "metadata": {},
   "source": [
    "**Question 17:** Write a Python program to check if a year is a leap year."
   ]
  },
  {
   "cell_type": "code",
   "execution_count": 46,
   "metadata": {},
   "outputs": [
    {
     "name": "stdout",
     "output_type": "stream",
     "text": [
      "It is a leap year\n"
     ]
    }
   ],
   "source": [
    "# Your code here\n",
    "## i know that without for loop hota hai bas muje dekhna tha \n",
    "n=int(input(\"Enter a year\"))\n",
    "\n",
    "if n%4==0:\n",
    "    print(\"It is a leap year\")\n",
    "    \n",
    "else:\n",
    "    print(\"It is not\")\n",
    "    \n",
    "    "
   ]
  },
  {
   "cell_type": "markdown",
   "metadata": {},
   "source": [
    "**Question 18:** Write a Python program to reverse a string."
   ]
  },
  {
   "cell_type": "code",
   "execution_count": 50,
   "metadata": {},
   "outputs": [
    {
     "name": "stdout",
     "output_type": "stream",
     "text": [
      "the reversed string is olleh\n"
     ]
    }
   ],
   "source": [
    "# Your code here\n",
    "string=input(\"Enter a string\")\n",
    "reversed_string=string[::-1]\n",
    "print(f\"the reversed string is {reversed_string}\")"
   ]
  },
  {
   "cell_type": "markdown",
   "metadata": {},
   "source": [
    "**Question 19:** Write a Python program to check if a string is a palindrome."
   ]
  },
  {
   "cell_type": "code",
   "execution_count": 56,
   "metadata": {},
   "outputs": [
    {
     "name": "stdout",
     "output_type": "stream",
     "text": [
      "The string is palindrome\n"
     ]
    }
   ],
   "source": [
    "# Your code here\n",
    "string=str(input(\"Enter a string\").lower())\n",
    "if string==string[::-1]:\n",
    "    print(\"The string is palindrome\")\n",
    "else:\n",
    "    print(\"The string is not palindrome\")"
   ]
  },
  {
   "cell_type": "markdown",
   "metadata": {},
   "source": [
    "**Question 20:** Write a Python program to sort a list of numbers in ascending order."
   ]
  },
  {
   "cell_type": "code",
   "execution_count": null,
   "metadata": {},
   "outputs": [
    {
     "name": "stdout",
     "output_type": "stream",
     "text": [
      "[3, 4, 2, 5, 2, 6]\n",
      "[2, 2, 3, 4, 5, 6]\n"
     ]
    }
   ],
   "source": [
    "# Your code here\n",
    "## yeh dekhna padda\n",
    "## list comprehension ke through hota hai\n",
    "number=[int(number) for number in input(\"Enter any number in any order\").split()]\n",
    "print(number)\n",
    "number.sort()\n",
    "print(number)\n",
    "\n",
    "\n",
    "\n"
   ]
  }
 ],
 "metadata": {
  "kernelspec": {
   "display_name": "base",
   "language": "python",
   "name": "python3"
  },
  "language_info": {
   "codemirror_mode": {
    "name": "ipython",
    "version": 3
   },
   "file_extension": ".py",
   "mimetype": "text/x-python",
   "name": "python",
   "nbconvert_exporter": "python",
   "pygments_lexer": "ipython3",
   "version": "3.12.7"
  }
 },
 "nbformat": 4,
 "nbformat_minor": 4
}
