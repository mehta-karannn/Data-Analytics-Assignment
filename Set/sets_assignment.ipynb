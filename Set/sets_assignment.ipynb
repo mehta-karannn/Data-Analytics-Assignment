{
 "cells": [
  {
   "cell_type": "markdown",
   "metadata": {},
   "source": [
    "# Module 3: Data Structures Assignments\n",
    "## Lesson 3.3: Sets\n",
    "### Assignment 1: Creating and Accessing Sets\n",
    "\n",
    "Create a set with the first 10 positive integers. Print the set.\n",
    "\n",
    "### Assignment 2: Adding and Removing Elements\n",
    "\n",
    "Add the number 11 to the set created in Assignment 1. Then remove the number 1 from the set. Print the modified set.\n",
    "\n",
    "### Assignment 3: Set Operations\n",
    "\n",
    "Create two sets: one with the first 5 positive integers and another with the first 5 even integers. Perform and print the results of union, intersection, difference, and symmetric difference operations on these sets.\n",
    "\n",
    "### Assignment 4: Set Comprehensions\n",
    "\n",
    "Create a new set containing the squares of the first 10 positive integers using a set comprehension. Print the new set.\n",
    "\n",
    "### Assignment 5: Filtering Sets\n",
    "\n",
    "Create a new set containing only the even numbers from the set created in Assignment 1 using a set comprehension. Print the new set.\n",
    "\n",
    "### Assignment 6: Set Methods\n",
    "\n",
    "Create a set with duplicate elements and remove the duplicates using set methods. Print the modified set.\n",
    "\n",
    "### Assignment 7: Subsets and Supersets\n",
    "\n",
    "Create two sets: one with the first 5 positive integers and another with the first 3 positive integers. Check if the second set is a subset of the first set and if the first set is a superset of the second set. Print the results.\n",
    "\n",
    "### Assignment 8: Frozenset\n",
    "\n",
    "Create a frozenset with the first 5 positive integers. Print the frozenset.\n",
    "\n",
    "### Assignment 9: Set and List Conversion\n",
    "\n",
    "Create a set with the first 5 positive integers. Convert it to a list, append the number 6, and convert it back to a set. Print the resulting set.\n",
    "\n",
    "### Assignment 10: Set and Dictionary\n",
    "\n",
    "Create a dictionary with set keys and integer values. Print the dictionary.\n",
    "\n",
    "### Assignment 11: Iterating Over Sets\n",
    "\n",
    "Create a set and iterate over the elements, printing each element.\n",
    "\n",
    "### Assignment 12: Removing Elements from Sets\n",
    "\n",
    "Create a set and remove elements from it until it is empty. Print the set after each removal.\n",
    "\n",
    "### Assignment 13: Set Symmetric Difference Update\n",
    "\n",
    "Create two sets and update the first set with the symmetric difference of the two sets. Print the modified first set.\n",
    "\n",
    "### Assignment 14: Set Membership Testing\n",
    "\n",
    "Create a set and test if certain elements are present in the set. Print the results.\n",
    "\n",
    "### Assignment 15: Set of Tuples\n",
    "\n",
    "Create a set containing tuples, where each tuple contains two elements. Print the set."
   ]
  },
  {
   "cell_type": "code",
   "execution_count": 2,
   "metadata": {},
   "outputs": [
    {
     "name": "stdout",
     "output_type": "stream",
     "text": [
      "{1, 2, 3, 4, 5, 6, 7, 8, 9, 10}\n",
      "<class 'set'>\n"
     ]
    }
   ],
   "source": [
    "##Assignment 1\n",
    "creation_Set={int(x) for x in range(1,11)}\n",
    "print(creation_Set)\n",
    "print(type(creation_Set))"
   ]
  },
  {
   "cell_type": "code",
   "execution_count": null,
   "id": "454be9aa",
   "metadata": {},
   "outputs": [
    {
     "name": "stdout",
     "output_type": "stream",
     "text": [
      "{1, 2, 3, 4, 5, 6, 7, 8, 9, 10, 11}\n",
      "{2, 3, 4, 5, 6, 7, 8, 9, 10, 11}\n"
     ]
    }
   ],
   "source": [
    "##Assignment 2\n",
    "creation_Set.add(11)\n",
    "print(creation_Set)\n",
    "creation_Set.remove(1)\n",
    "print(creation_Set)"
   ]
  },
  {
   "cell_type": "code",
   "execution_count": 8,
   "id": "76e87a63",
   "metadata": {},
   "outputs": [
    {
     "name": "stdout",
     "output_type": "stream",
     "text": [
      "Symettric Difference :{1, 2, 3, 4, 5, 6, 7, 8, 9, 10}\n",
      "{1, 2, 3, 4, 5, 6, 7, 8, 9, 10}\n",
      "set()\n",
      "{1, 2, 3, 4, 5}\n"
     ]
    }
   ],
   "source": [
    "##Assignment 3\n",
    "set1={1,2,3,4,5}\n",
    "set2={6,7,8,9,10}\n",
    "union_sets=set1.union(set2)\n",
    "intersection_sets=set1.intersection(set2)\n",
    "difference_sets=set1.difference(set2)\n",
    "print(f\"Symettric Difference :{set1 ^ set2}\")\n",
    "print(union_sets)\n",
    "print(intersection_sets)\n",
    "print(difference_sets)\n"
   ]
  },
  {
   "cell_type": "code",
   "execution_count": 12,
   "id": "29a51952",
   "metadata": {},
   "outputs": [
    {
     "name": "stdout",
     "output_type": "stream",
     "text": [
      "{64, 1, 4, 36, 100, 9, 16, 49, 81, 25}\n",
      "<class 'set'>\n"
     ]
    }
   ],
   "source": [
    "##Assignment 4\n",
    "set_squares={x**2 for x in range(1,11)}\n",
    "print(set_squares)\n",
    "print(type(set_squares))"
   ]
  },
  {
   "cell_type": "code",
   "execution_count": null,
   "id": "b0611f2e",
   "metadata": {},
   "outputs": [
    {
     "name": "stdout",
     "output_type": "stream",
     "text": [
      "{2, 4, 6, 8, 10}\n"
     ]
    }
   ],
   "source": [
    "##Assignment 5\n",
    "only_even_numbers={int(x) for x in range(1,11) if x%2==0}\n",
    "print(only_even_numbers)"
   ]
  },
  {
   "cell_type": "code",
   "execution_count": 15,
   "id": "c9607ef4",
   "metadata": {},
   "outputs": [
    {
     "name": "stdout",
     "output_type": "stream",
     "text": [
      "{2, 3, 4, 5, 6, 7, 9}\n"
     ]
    }
   ],
   "source": [
    "##Assignment 6\n",
    "duplicate_set={2,2,3,4,2,4,5,6,3,7,9,4,2}\n",
    "# print(type(duplicate_set))\n",
    "print(set(duplicate_set))\n"
   ]
  },
  {
   "cell_type": "code",
   "execution_count": 21,
   "id": "0064ed19",
   "metadata": {},
   "outputs": [
    {
     "name": "stdout",
     "output_type": "stream",
     "text": [
      "True\n",
      "True\n"
     ]
    }
   ],
   "source": [
    "## Assignment 7\n",
    "set1={x for x in range(1,6)}\n",
    "set2={y for y in range(1,4)}\n",
    "print(set2.issubset(set1))\n",
    "print(set1.issuperset(set2))"
   ]
  },
  {
   "cell_type": "code",
   "execution_count": 25,
   "id": "b5bd87aa",
   "metadata": {},
   "outputs": [
    {
     "name": "stdout",
     "output_type": "stream",
     "text": [
      "frozenset({1, 2, 3, 4, 5})\n"
     ]
    }
   ],
   "source": [
    "##Assignment 8\n",
    "cool_set=frozenset(range(1,6))\n",
    "print(cool_set)\n"
   ]
  },
  {
   "cell_type": "code",
   "execution_count": 26,
   "id": "38a53763",
   "metadata": {},
   "outputs": [
    {
     "name": "stdout",
     "output_type": "stream",
     "text": [
      "{1, 2, 3, 4, 5, 6}\n"
     ]
    }
   ],
   "source": [
    "##Assignment 9\n",
    "positive_integer={1,2,3,4,5}\n",
    "conversion_to_list=list(positive_integer)\n",
    "conversion_to_list.append(6)\n",
    "converion_to_set=set(conversion_to_list)\n",
    "print(converion_to_set)"
   ]
  },
  {
   "cell_type": "code",
   "execution_count": 28,
   "id": "efa3d92d",
   "metadata": {},
   "outputs": [
    {
     "name": "stdout",
     "output_type": "stream",
     "text": [
      "1 2 3 4 5 "
     ]
    }
   ],
   "source": [
    "##Assignment 10\n",
    "iteration_of_elements=set(range(1,6))\n",
    "for i in iteration_of_elements:\n",
    "    print(i,end=\" \")"
   ]
  },
  {
   "cell_type": "code",
   "execution_count": 33,
   "id": "af30279f",
   "metadata": {},
   "outputs": [
    {
     "name": "stdout",
     "output_type": "stream",
     "text": [
      "{2, 3, 4, 5}\n",
      "{3, 4, 5}\n",
      "{4, 5}\n",
      "{5}\n",
      "set()\n"
     ]
    }
   ],
   "source": [
    "##Assignment 12\n",
    "removal_of_set=set(range(1,6))\n",
    "while removal_of_set:\n",
    "    removal_of_set.pop()\n",
    "    print(removal_of_set)\n"
   ]
  },
  {
   "cell_type": "code",
   "execution_count": 43,
   "id": "b238cd82",
   "metadata": {},
   "outputs": [
    {
     "name": "stdout",
     "output_type": "stream",
     "text": [
      "{1, 2, 5, 6}\n"
     ]
    }
   ],
   "source": [
    "##Assignment13\n",
    "set1={1,2,3,4}\n",
    "set2={3,4,5,6}\n",
    "set1.symmetric_difference_update(set2)\n",
    "print(set1)"
   ]
  },
  {
   "cell_type": "code",
   "execution_count": 44,
   "id": "cad56234",
   "metadata": {},
   "outputs": [
    {
     "name": "stdout",
     "output_type": "stream",
     "text": [
      "True\n",
      "False\n"
     ]
    }
   ],
   "source": [
    "#Assignment 14\n",
    "set1=set(range(1,11))\n",
    "print(7 in set1)\n",
    "print(11 in set1)"
   ]
  },
  {
   "cell_type": "code",
   "execution_count": 46,
   "id": "2dec3d7d",
   "metadata": {},
   "outputs": [
    {
     "name": "stdout",
     "output_type": "stream",
     "text": [
      "{(2, 3), (12, 14), (17, 10)}\n"
     ]
    }
   ],
   "source": [
    "##Assignment 15\n",
    "set_of_tuples={(12,14),(17,10),(2,3)}\n",
    "print(set_of_tuples)"
   ]
  }
 ],
 "metadata": {
  "kernelspec": {
   "display_name": "base",
   "language": "python",
   "name": "python3"
  },
  "language_info": {
   "codemirror_mode": {
    "name": "ipython",
    "version": 3
   },
   "file_extension": ".py",
   "mimetype": "text/x-python",
   "name": "python",
   "nbconvert_exporter": "python",
   "pygments_lexer": "ipython3",
   "version": "3.12.7"
  }
 },
 "nbformat": 4,
 "nbformat_minor": 5
}
