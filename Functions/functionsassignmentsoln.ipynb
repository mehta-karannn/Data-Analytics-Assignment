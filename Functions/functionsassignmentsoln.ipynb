{
 "cells": [
  {
   "cell_type": "markdown",
   "metadata": {},
   "source": [
    "# Module 4: Functions Assignments\n",
    "## Lesson 4.1: Defining Functions\n",
    "### Assignment 1: Simple Function\n",
    "\n",
    "Define a function that takes a single integer as input and returns its square. Test the function with different inputs."
   ]
  },
  {
   "cell_type": "code",
   "execution_count": 2,
   "metadata": {},
   "outputs": [
    {
     "data": {
      "text/plain": [
       "16"
      ]
     },
     "execution_count": 2,
     "metadata": {},
     "output_type": "execute_result"
    }
   ],
   "source": [
    "square_of_number=int(input(\"Enter a Number\"))\n",
    "def square(square_of_number):\n",
    "    return square_of_number**2\n",
    "\n",
    "square(square_of_number)"
   ]
  },
  {
   "cell_type": "markdown",
   "metadata": {},
   "source": [
    "### Assignment 2: Multiple Arguments\n",
    "\n",
    "Define a function that takes two integers as input and returns their sum. Test the function with different inputs."
   ]
  },
  {
   "cell_type": "code",
   "execution_count": 4,
   "metadata": {},
   "outputs": [
    {
     "data": {
      "text/plain": [
       "('The addition of 1 and 2 is', 3)"
      ]
     },
     "execution_count": 4,
     "metadata": {},
     "output_type": "execute_result"
    }
   ],
   "source": [
    "a,b=map(int,input(\"Enter the number:\").split())\n",
    "def add(a,b):\n",
    "    return f\"The addition of {a} and {b} is\",a+b\n",
    "add(a,b)"
   ]
  },
  {
   "cell_type": "markdown",
   "metadata": {},
   "source": [
    "### Assignment 3: Default Arguments\n",
    "\n",
    "Define a function that takes two integers as input and returns their sum. The second integer should have a default value of 5. Test the function with different inputs."
   ]
  },
  {
   "cell_type": "code",
   "execution_count": 12,
   "metadata": {},
   "outputs": [
    {
     "data": {
      "text/plain": [
       "11"
      ]
     },
     "execution_count": 12,
     "metadata": {},
     "output_type": "execute_result"
    }
   ],
   "source": [
    "numbers=list(map(int,input(\"Enter the number:\").split()))\n",
    "if len(numbers)==1:\n",
    "    a=numbers[0]\n",
    "    b=5\n",
    "else:\n",
    "    a,b=numbers[:2]\n",
    "def addition(a,b=5):\n",
    "    return a+b\n",
    "\n",
    "addition(a,b)"
   ]
  },
  {
   "cell_type": "markdown",
   "metadata": {},
   "source": [
    "### Assignment 4: Keyword Arguments\n",
    "\n",
    "Define a function that takes three named arguments: first_name, last_name, and age, and returns a formatted string. Test the function with different inputs."
   ]
  },
  {
   "cell_type": "code",
   "execution_count": 16,
   "metadata": {},
   "outputs": [
    {
     "data": {
      "text/plain": [
       "'Karan Mehta is Immature'"
      ]
     },
     "execution_count": 16,
     "metadata": {},
     "output_type": "execute_result"
    }
   ],
   "source": [
    "first_name=input(\"Enter First Name:\")\n",
    "last_name=input(\"Enter Last Name:\")\n",
    "age=int(input(\"Enter the person age:\"))\n",
    "def format_person(first_name, last_name, age):\n",
    "    if age>=22:\n",
    "        return f\"{first_name} {last_name} is {age} years old.\"\n",
    "    else:\n",
    "        return f\"{first_name} {last_name} is Immature\"\n",
    "\n",
    "format_person(first_name,last_name,age)"
   ]
  },
  {
   "cell_type": "markdown",
   "metadata": {},
   "source": [
    "### Assignment 5: Variable-length Arguments\n",
    "\n",
    "Define a function that takes a variable number of integer arguments and returns their product. Test the function with different inputs."
   ]
  },
  {
   "cell_type": "code",
   "execution_count": 31,
   "metadata": {},
   "outputs": [
    {
     "name": "stdout",
     "output_type": "stream",
     "text": [
      "2184\n",
      "120\n"
     ]
    }
   ],
   "source": [
    "def multiply(*args):\n",
    "    product = 1\n",
    "    for num in args:\n",
    "        product *= num\n",
    "    return product\n",
    "\n",
    "\n",
    "print(multiply(12, 13, 14))  \n",
    "print(multiply(1, 2, 3, 4, 5)) "
   ]
  },
  {
   "cell_type": "markdown",
   "metadata": {},
   "source": [
    "### Assignment 6: Nested Functions\n",
    "\n",
    "Define a function that contains another function inside it. The outer function should take two integers as input and return the result of the inner function, which multiplies the two integers. Test the function with different inputs."
   ]
  },
  {
   "cell_type": "code",
   "execution_count": 20,
   "metadata": {},
   "outputs": [
    {
     "name": "stdout",
     "output_type": "stream",
     "text": [
      "6\n",
      "20\n"
     ]
    }
   ],
   "source": [
    "def outer_function(x, y):\n",
    "    def inner_function(a, b):\n",
    "        return a * b\n",
    "    return inner_function(x, y)\n",
    "\n",
    "print(outer_function(2, 3)) \n",
    "print(outer_function(4, 5))  "
   ]
  },
  {
   "cell_type": "markdown",
   "metadata": {},
   "source": [
    "### Assignment 7: Returning Multiple Values\n",
    "\n",
    "Define a function that takes a single integer as input and returns the integer squared, cubed, and raised to the power of four. Test the function with different inputs."
   ]
  },
  {
   "cell_type": "code",
   "execution_count": 19,
   "metadata": {},
   "outputs": [
    {
     "name": "stdout",
     "output_type": "stream",
     "text": [
      "(4, 8, 16)\n",
      "(9, 27, 81)\n"
     ]
    }
   ],
   "source": [
    "def powers(x):\n",
    "    return x ** 2, x ** 3, x ** 4\n",
    "\n",
    "print(powers(2))  \n",
    "print(powers(3))  "
   ]
  },
  {
   "cell_type": "markdown",
   "metadata": {},
   "source": [
    "### Assignment 8: Recursive Function\n",
    "\n",
    "Define a recursive function that calculates the factorial of a given number. Test the function with different inputs."
   ]
  },
  {
   "cell_type": "code",
   "execution_count": null,
   "metadata": {},
   "outputs": [],
   "source": [
    "## bhot baar kiya abb yaad ho chuka hai yeh chizz !!!\n",
    "\n",
    "def factorial(n):\n",
    "    if n == 0:\n",
    "        return 1\n",
    "    else:\n",
    "        return n * factorial(n - 1)\n",
    "\n",
    "\n",
    "print(factorial(5))  \n",
    "print(factorial(6))  "
   ]
  },
  {
   "cell_type": "markdown",
   "metadata": {},
   "source": [
    "### Assignment 9: Lambda Function\n",
    "\n",
    "Define a lambda function that takes two integers as input and returns their sum. Test the lambda function with different inputs."
   ]
  },
  {
   "cell_type": "code",
   "execution_count": 18,
   "metadata": {},
   "outputs": [
    {
     "name": "stdout",
     "output_type": "stream",
     "text": [
      "5\n",
      "30\n"
     ]
    }
   ],
   "source": [
    "add = lambda x, y: x + y\n",
    "\n",
    "\n",
    "print(add(2, 3))  \n",
    "print(add(10, 20))  "
   ]
  },
  {
   "cell_type": "markdown",
   "metadata": {},
   "source": [
    "### Assignment 10: Map Function\n",
    "\n",
    "Use the map function to apply a lambda function that squares each number in a list of integers. Test with different lists."
   ]
  },
  {
   "cell_type": "code",
   "execution_count": 17,
   "metadata": {},
   "outputs": [
    {
     "name": "stdout",
     "output_type": "stream",
     "text": [
      "[1, 4, 9, 16, 25]\n"
     ]
    }
   ],
   "source": [
    "numbers = [1, 2, 3, 4, 5]\n",
    "squared_numbers = list(map(lambda x: x ** 2, numbers))\n",
    "print(squared_numbers)  "
   ]
  },
  {
   "cell_type": "markdown",
   "metadata": {},
   "source": [
    "### Assignment 11: Filter Function\n",
    "\n",
    "Use the filter function to filter out all odd numbers from a list of integers. Test with different lists."
   ]
  },
  {
   "cell_type": "code",
   "execution_count": 21,
   "metadata": {},
   "outputs": [
    {
     "name": "stdout",
     "output_type": "stream",
     "text": [
      "[2, 4, 6, 8, 10]\n"
     ]
    }
   ],
   "source": [
    "numbers = [1, 2, 3, 4, 5, 6, 7, 8, 9, 10]\n",
    "even_numbers = list(filter(lambda x: x % 2 == 0, numbers))\n",
    "print(even_numbers) "
   ]
  },
  {
   "cell_type": "markdown",
   "metadata": {},
   "source": [
    "### Assignment 12: Function Decorator\n",
    "\n",
    "Define a decorator function that prints 'Executing function...' before executing a function and 'Function executed.' after executing it. Apply this decorator to a function that takes a list of integers and returns their sum. Test the decorated function with different lists."
   ]
  },
  {
   "cell_type": "code",
   "execution_count": null,
   "metadata": {},
   "outputs": [
    {
     "name": "stdout",
     "output_type": "stream",
     "text": [
      "Executing function...\n",
      "Function executed.\n",
      "15\n"
     ]
    }
   ],
   "source": [
    "def my_decorator(func):\n",
    "    def wrapper(*args, **kwargs):\n",
    "        print('Executing function...')\n",
    "        result = func(*args, **kwargs)\n",
    "        print('Function executed.')\n",
    "        return result\n",
    "    return wrapper\n",
    "\n",
    "@my_decorator\n",
    "def sum_list(lst):\n",
    "    return sum(lst)\n",
    "\n",
    "\n",
    "print(sum_list([1, 2, 3, 4, 5])) "
   ]
  },
  {
   "cell_type": "markdown",
   "metadata": {},
   "source": [
    "### Assignment 13: Function with *args and **kwargs\n",
    "\n",
    "Define a function that takes variable-length arguments and keyword arguments and prints them. Test the function with different inputs."
   ]
  },
  {
   "cell_type": "code",
   "execution_count": 25,
   "metadata": {},
   "outputs": [
    {
     "name": "stdout",
     "output_type": "stream",
     "text": [
      "args: (1, 2, 3)\n",
      "kwargs: {'a': 'karan', 'b': 'tanvi'}\n",
      "args: ('hello', 'mailer')\n",
      "kwargs: {'x': 12, 'y': 14}\n"
     ]
    }
   ],
   "source": [
    "def print_args_kwargs(*args, **kwargs):\n",
    "    print('args:', args)\n",
    "    print('kwargs:', kwargs)\n",
    "\n",
    "\n",
    "print_args_kwargs(1, 2, 3, a='karan', b='tanvi')\n",
    "print_args_kwargs('hello', 'mailer', x=12, y=14)"
   ]
  },
  {
   "cell_type": "markdown",
   "metadata": {},
   "source": [
    "### Assignment 14: Higher-Order Function\n",
    "\n",
    "Define a higher-order function that takes a function and a list of integers as arguments, and applies the function to each integer in the list. Test with different functions and lists."
   ]
  },
  {
   "cell_type": "code",
   "execution_count": 29,
   "metadata": {},
   "outputs": [
    {
     "name": "stdout",
     "output_type": "stream",
     "text": [
      "[1, 4, 9, 16, 25]\n",
      "[2, 3, 4, 5, 6]\n"
     ]
    }
   ],
   "source": [
    "def apply_function(func, lst):\n",
    "    return [func(x) for x in lst]\n",
    "\n",
    "print(apply_function(lambda x: x ** 2, [1, 2, 3, 4, 5])) \n",
    "print(apply_function(lambda x: x + 1, [1, 2, 3, 4, 5]))  "
   ]
  },
  {
   "cell_type": "markdown",
   "metadata": {},
   "source": [
    "### Assignment 15: Function Documentation\n",
    "\n",
    "Define a function with a docstring that explains what the function does, its parameters, and its return value. Print the function's docstring."
   ]
  },
  {
   "cell_type": "code",
   "execution_count": 28,
   "metadata": {},
   "outputs": [
    {
     "name": "stdout",
     "output_type": "stream",
     "text": [
      "\n",
      "    Yeh documentation kya hi banau me \n",
      "    dekho guys isme function ka naam example_function hai \n",
      "    jisme 2 parameters pass kiye hai \n",
      "    i.e x is integer\n",
      "    y is integer \n",
      "    \n",
      "    and hum isko jodege taaki woh ek hojaye \n",
      "\n",
      "    ek din agar me famous hua toh yeh sabko maalum hona chahiye \n",
      "    ki aise padhai karte hai \n",
      "\n",
      "    Samjheeee>???\n",
      "    \n"
     ]
    }
   ],
   "source": [
    "def example_function(x, y):\n",
    "    \"\"\"\n",
    "    Yeh documentation kya hi banau me \n",
    "    dekho guys isme function ka naam example_function hai \n",
    "    jisme 2 parameters pass kiye hai \n",
    "    i.e x is integer\n",
    "    y is integer \n",
    "    \n",
    "    and hum isko jodege taaki woh ek hojaye \n",
    "\n",
    "    ek din agar me famous hua toh yeh sabko maalum hona chahiye \n",
    "    ki aise padhai karte hai \n",
    "\n",
    "    Samjheeee>???\n",
    "    \"\"\"\n",
    "    return x + y\n",
    "\n",
    "\n",
    "print(example_function.__doc__)"
   ]
  },
  {
   "cell_type": "code",
   "execution_count": null,
   "id": "8434c823",
   "metadata": {},
   "outputs": [],
   "source": []
  }
 ],
 "metadata": {
  "kernelspec": {
   "display_name": "base",
   "language": "python",
   "name": "python3"
  },
  "language_info": {
   "codemirror_mode": {
    "name": "ipython",
    "version": 3
   },
   "file_extension": ".py",
   "mimetype": "text/x-python",
   "name": "python",
   "nbconvert_exporter": "python",
   "pygments_lexer": "ipython3",
   "version": "3.12.7"
  }
 },
 "nbformat": 4,
 "nbformat_minor": 5
}
