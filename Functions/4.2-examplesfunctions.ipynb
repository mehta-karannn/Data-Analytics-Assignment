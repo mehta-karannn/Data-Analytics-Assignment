{
 "cells": [
  {
   "cell_type": "markdown",
   "metadata": {},
   "source": [
    "#### Functions Examples\n"
   ]
  },
  {
   "cell_type": "markdown",
   "metadata": {},
   "source": [
    "#### Example 1: Temperature Conversion"
   ]
  },
  {
   "cell_type": "code",
   "execution_count": 1,
   "metadata": {},
   "outputs": [
    {
     "name": "stdout",
     "output_type": "stream",
     "text": [
      "Converted temperature:77.0\n"
     ]
    }
   ],
   "source": [
    "temp=int(input(\"Enter a number:\"))\n",
    "unit=input(\"Enter the unit(C/F):\")\n",
    "def tem_conversion(temp,unit):\n",
    "    \"\"\"this finction is to measure temperature in celcius and fahreneit\"\"\"\n",
    "    if unit=='C':\n",
    "        return temp * 9/5 +32\n",
    "    elif unit=='F':\n",
    "        return (temp-32)* 5/9\n",
    "    else:\n",
    "        return None\n",
    "converted_temp=tem_conversion(temp,unit)\n",
    "print(f\"Converted temperature:{converted_temp}\")\n",
    "\n"
   ]
  },
  {
   "cell_type": "markdown",
   "metadata": {},
   "source": [
    "##### Example 2: Password Strength Checker"
   ]
  },
  {
   "cell_type": "code",
   "execution_count": 8,
   "metadata": {},
   "outputs": [
    {
     "name": "stdout",
     "output_type": "stream",
     "text": [
      "The password : Karanmehta12@ is strong\n"
     ]
    }
   ],
   "source": [
    "password=input(\"Enter the Password:\")\n",
    "def password_checker(password):\n",
    "    errors=[]\n",
    "    if len(password)<8:\n",
    "        errors.append(\"The password must contain 8 characters\")\n",
    "    if not any(char.isdigit() for char in password):\n",
    "        errors.append(\"There must be an number in the password\")\n",
    "    if not any(char.islower()  for char in password):\n",
    "        errors.append(\"The password must be a mixmatch of Upper and lower case\")\n",
    "    if not any(char.isupper() for char in password):\n",
    "        errors.append(\"The password must be a mixmatch of Upper and lower case\")\n",
    "    if not any(char in \"%$^&*@!\" for char in password):\n",
    "        errors.append(\"The password must contain special characters\")\n",
    "    \n",
    "    if errors:\n",
    "        for error in errors:\n",
    "            print(error + \" \" + f\", Thus pasword:{password} is weak\")\n",
    "    else:\n",
    "        print(f\"The password : {password} is strong\")\n",
    "\n",
    "password_checker(password)\n",
    "\n",
    "    \n",
    "    "
   ]
  },
  {
   "cell_type": "markdown",
   "metadata": {},
   "source": [
    "##### Example 3: Calculate the Total Cost Of Items In a Shopping Cart"
   ]
  },
  {
   "cell_type": "code",
   "execution_count": null,
   "metadata": {},
   "outputs": [
    {
     "name": "stdout",
     "output_type": "stream",
     "text": [
      "5.8999999999999995\n"
     ]
    }
   ],
   "source": [
    "## iska me kuch soch raha hu by taking input abb tak aaya nhi hai idea kaise karu but karuga isko bhi\n",
    "\n",
    "\n",
    "def calculate_total_cost(cart):\n",
    "    total_cost=0\n",
    "    for item in cart:\n",
    "        total_cost+=item['price']* item['quantity']\n",
    "\n",
    "    return total_cost\n",
    "\n",
    "\n",
    "## Example cart data\n",
    "\n",
    "cart=[\n",
    "    {'name':'Apple','price':0.5,'quantity':4},\n",
    "    {'name':'Banana','price':0.3,'quantity':6},\n",
    "    {'name':'Orange','price':0.7,'quantity':3}\n",
    "\n",
    "]\n",
    "\n",
    "## calling the function\n",
    "total_cost=calculate_total_cost(cart)\n",
    "print(total_cost)"
   ]
  },
  {
   "cell_type": "markdown",
   "metadata": {},
   "source": [
    "##### Example 4: Check IF a String Is Palindrome"
   ]
  },
  {
   "cell_type": "code",
   "execution_count": 20,
   "metadata": {},
   "outputs": [
    {
     "name": "stdout",
     "output_type": "stream",
     "text": [
      "1441 is a Palindrome\n"
     ]
    }
   ],
   "source": [
    "palindrome_checker=input(\"Enter a String or a number: \").lower().replace(\" \",\"\")\n",
    "def is_palindrome(palindrome_checker):\n",
    "    if palindrome_checker==palindrome_checker[::-1]:\n",
    "        print(f\"{palindrome_checker} is a Palindrome\")\n",
    "    else:\n",
    "        print(f\"{palindrome_checker} is not an Palindrome\")\n",
    "\n",
    "is_palindrome(palindrome_checker)\n",
    "\n"
   ]
  },
  {
   "cell_type": "markdown",
   "metadata": {},
   "source": [
    "##### Example 5: Calculate the factorials of a number using recursion"
   ]
  },
  {
   "cell_type": "code",
   "execution_count": 25,
   "metadata": {},
   "outputs": [
    {
     "name": "stdout",
     "output_type": "stream",
     "text": [
      "Factorial of 5 is 120\n"
     ]
    }
   ],
   "source": [
    "number=int(input(\"Enter a number to finds it's Factorial:\"))\n",
    "def factorial(number):\n",
    "    if number==0:\n",
    "        return 1\n",
    "    factorial=1\n",
    "    for i in range(1,number+1):\n",
    "        factorial*=i\n",
    "    print(f\"Factorial of {i} is {factorial}\")\n",
    "    \n",
    "factorial(number)"
   ]
  },
  {
   "cell_type": "markdown",
   "metadata": {},
   "source": [
    "##### Example 6: A Function To Read A File and count the frequency of each word"
   ]
  },
  {
   "cell_type": "code",
   "execution_count": 10,
   "metadata": {},
   "outputs": [
    {
     "name": "stdout",
     "output_type": "stream",
     "text": [
      "{'hello': 1, 'world': 1, 'how': 1, 'are': 1, 'you': 1, 'my': 1, 'name': 1, 'is': 1, 'krish': 2}\n"
     ]
    }
   ],
   "source": [
    "def count_word_frequency(file_path):\n",
    "    word_count={}\n",
    "    with open(file_path,'r') as file:\n",
    "        for line in file:\n",
    "            words=line.split()\n",
    "            for word in words:\n",
    "                word=word.lower().strip('.,!?;:\"\\'')\n",
    "                word_count[word]=word_count.get(word,0)+1\n",
    "    \n",
    "    return word_count\n",
    "\n",
    "filepath='sample.txt'\n",
    "word_frequency=count_word_frequency(filepath)\n",
    "print(word_frequency)\n"
   ]
  },
  {
   "cell_type": "markdown",
   "metadata": {},
   "source": [
    "##### Example 7: Validate Email Address"
   ]
  },
  {
   "cell_type": "code",
   "execution_count": 28,
   "metadata": {},
   "outputs": [
    {
     "data": {
      "text/plain": [
       "'Invalid Email! Username should be present !!'"
      ]
     },
     "execution_count": 28,
     "metadata": {},
     "output_type": "execute_result"
    }
   ],
   "source": [
    "email_get=input(\"Enter an E-mail:\")\n",
    "def email_validate(email_get):\n",
    "    \"\"\"this function checks the mail_validation\"\"\"\n",
    "    if email_get.count('@')!=1:\n",
    "        return \"The Email address should contain exactly 1 '@'\"\n",
    "    username,domain=email_get.split('@')\n",
    "\n",
    "    if not username:\n",
    "        return \"Invalid Email! Username should be present !!\"\n",
    "    \n",
    "    if '.' not in domain:\n",
    "        return \"Invalid!The domain provided is not Correct\"\n",
    "    \n",
    "    return \"Email is Validated\"\n",
    "\n",
    "email_validate(email_get)"
   ]
  },
  {
   "cell_type": "code",
   "execution_count": null,
   "metadata": {},
   "outputs": [],
   "source": []
  }
 ],
 "metadata": {
  "kernelspec": {
   "display_name": "base",
   "language": "python",
   "name": "python3"
  },
  "language_info": {
   "codemirror_mode": {
    "name": "ipython",
    "version": 3
   },
   "file_extension": ".py",
   "mimetype": "text/x-python",
   "name": "python",
   "nbconvert_exporter": "python",
   "pygments_lexer": "ipython3",
   "version": "3.12.7"
  }
 },
 "nbformat": 4,
 "nbformat_minor": 2
}
